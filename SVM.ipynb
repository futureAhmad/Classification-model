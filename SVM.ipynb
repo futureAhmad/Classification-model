{
 "cells": [
  {
   "cell_type": "code",
   "execution_count": 48,
   "id": "713a44b6",
   "metadata": {},
   "outputs": [],
   "source": [
    "# Importing the libraries\n",
    "import numpy as np\n",
    "import pandas as pd\n",
    "import matplotlib.pyplot as plt\n",
    "import seaborn as sns"
   ]
  },
  {
   "cell_type": "code",
   "execution_count": 49,
   "id": "15adcf60",
   "metadata": {},
   "outputs": [
    {
     "data": {
      "text/html": [
       "<div>\n",
       "<style scoped>\n",
       "    .dataframe tbody tr th:only-of-type {\n",
       "        vertical-align: middle;\n",
       "    }\n",
       "\n",
       "    .dataframe tbody tr th {\n",
       "        vertical-align: top;\n",
       "    }\n",
       "\n",
       "    .dataframe thead th {\n",
       "        text-align: right;\n",
       "    }\n",
       "</style>\n",
       "<table border=\"1\" class=\"dataframe\">\n",
       "  <thead>\n",
       "    <tr style=\"text-align: right;\">\n",
       "      <th></th>\n",
       "      <th>gender</th>\n",
       "      <th>NationalITy</th>\n",
       "      <th>PlaceofBirth</th>\n",
       "      <th>StageID</th>\n",
       "      <th>GradeID</th>\n",
       "      <th>SectionID</th>\n",
       "      <th>Topic</th>\n",
       "      <th>Semester</th>\n",
       "      <th>Relation</th>\n",
       "      <th>raisedhands</th>\n",
       "      <th>VisITedResources</th>\n",
       "      <th>AnnouncementsView</th>\n",
       "      <th>Discussion</th>\n",
       "      <th>ParentAnsweringSurvey</th>\n",
       "      <th>ParentschoolSatisfaction</th>\n",
       "      <th>StudentAbsenceDays</th>\n",
       "      <th>Class</th>\n",
       "    </tr>\n",
       "  </thead>\n",
       "  <tbody>\n",
       "    <tr>\n",
       "      <th>0</th>\n",
       "      <td>M</td>\n",
       "      <td>KW</td>\n",
       "      <td>KuwaIT</td>\n",
       "      <td>lowerlevel</td>\n",
       "      <td>G-04</td>\n",
       "      <td>A</td>\n",
       "      <td>IT</td>\n",
       "      <td>F</td>\n",
       "      <td>Father</td>\n",
       "      <td>15</td>\n",
       "      <td>16</td>\n",
       "      <td>2</td>\n",
       "      <td>20</td>\n",
       "      <td>Yes</td>\n",
       "      <td>Good</td>\n",
       "      <td>Under-7</td>\n",
       "      <td>M</td>\n",
       "    </tr>\n",
       "    <tr>\n",
       "      <th>1</th>\n",
       "      <td>M</td>\n",
       "      <td>KW</td>\n",
       "      <td>KuwaIT</td>\n",
       "      <td>lowerlevel</td>\n",
       "      <td>G-04</td>\n",
       "      <td>A</td>\n",
       "      <td>IT</td>\n",
       "      <td>F</td>\n",
       "      <td>Father</td>\n",
       "      <td>20</td>\n",
       "      <td>20</td>\n",
       "      <td>3</td>\n",
       "      <td>25</td>\n",
       "      <td>Yes</td>\n",
       "      <td>Good</td>\n",
       "      <td>Under-7</td>\n",
       "      <td>M</td>\n",
       "    </tr>\n",
       "    <tr>\n",
       "      <th>2</th>\n",
       "      <td>M</td>\n",
       "      <td>KW</td>\n",
       "      <td>KuwaIT</td>\n",
       "      <td>lowerlevel</td>\n",
       "      <td>G-04</td>\n",
       "      <td>A</td>\n",
       "      <td>IT</td>\n",
       "      <td>F</td>\n",
       "      <td>Father</td>\n",
       "      <td>10</td>\n",
       "      <td>7</td>\n",
       "      <td>0</td>\n",
       "      <td>30</td>\n",
       "      <td>No</td>\n",
       "      <td>Bad</td>\n",
       "      <td>Above-7</td>\n",
       "      <td>L</td>\n",
       "    </tr>\n",
       "    <tr>\n",
       "      <th>3</th>\n",
       "      <td>M</td>\n",
       "      <td>KW</td>\n",
       "      <td>KuwaIT</td>\n",
       "      <td>lowerlevel</td>\n",
       "      <td>G-04</td>\n",
       "      <td>A</td>\n",
       "      <td>IT</td>\n",
       "      <td>F</td>\n",
       "      <td>Father</td>\n",
       "      <td>30</td>\n",
       "      <td>25</td>\n",
       "      <td>5</td>\n",
       "      <td>35</td>\n",
       "      <td>No</td>\n",
       "      <td>Bad</td>\n",
       "      <td>Above-7</td>\n",
       "      <td>L</td>\n",
       "    </tr>\n",
       "    <tr>\n",
       "      <th>4</th>\n",
       "      <td>M</td>\n",
       "      <td>KW</td>\n",
       "      <td>KuwaIT</td>\n",
       "      <td>lowerlevel</td>\n",
       "      <td>G-04</td>\n",
       "      <td>A</td>\n",
       "      <td>IT</td>\n",
       "      <td>F</td>\n",
       "      <td>Father</td>\n",
       "      <td>40</td>\n",
       "      <td>50</td>\n",
       "      <td>12</td>\n",
       "      <td>50</td>\n",
       "      <td>No</td>\n",
       "      <td>Bad</td>\n",
       "      <td>Above-7</td>\n",
       "      <td>M</td>\n",
       "    </tr>\n",
       "  </tbody>\n",
       "</table>\n",
       "</div>"
      ],
      "text/plain": [
       "  gender NationalITy PlaceofBirth     StageID GradeID SectionID Topic  \\\n",
       "0      M          KW       KuwaIT  lowerlevel    G-04         A    IT   \n",
       "1      M          KW       KuwaIT  lowerlevel    G-04         A    IT   \n",
       "2      M          KW       KuwaIT  lowerlevel    G-04         A    IT   \n",
       "3      M          KW       KuwaIT  lowerlevel    G-04         A    IT   \n",
       "4      M          KW       KuwaIT  lowerlevel    G-04         A    IT   \n",
       "\n",
       "  Semester Relation  raisedhands  VisITedResources  AnnouncementsView  \\\n",
       "0        F   Father           15                16                  2   \n",
       "1        F   Father           20                20                  3   \n",
       "2        F   Father           10                 7                  0   \n",
       "3        F   Father           30                25                  5   \n",
       "4        F   Father           40                50                 12   \n",
       "\n",
       "   Discussion ParentAnsweringSurvey ParentschoolSatisfaction  \\\n",
       "0          20                   Yes                     Good   \n",
       "1          25                   Yes                     Good   \n",
       "2          30                    No                      Bad   \n",
       "3          35                    No                      Bad   \n",
       "4          50                    No                      Bad   \n",
       "\n",
       "  StudentAbsenceDays Class  \n",
       "0            Under-7     M  \n",
       "1            Under-7     M  \n",
       "2            Above-7     L  \n",
       "3            Above-7     L  \n",
       "4            Above-7     M  "
      ]
     },
     "execution_count": 49,
     "metadata": {},
     "output_type": "execute_result"
    }
   ],
   "source": [
    "# Read the data\n",
    "dataset = pd.read_csv('xAPI-Edu-Data.csv')\n",
    "\n",
    "# check data\n",
    "dataset.head()"
   ]
  },
  {
   "cell_type": "code",
   "execution_count": 50,
   "id": "a515dc22",
   "metadata": {},
   "outputs": [
    {
     "data": {
      "text/plain": [
       "(480, 17)"
      ]
     },
     "execution_count": 50,
     "metadata": {},
     "output_type": "execute_result"
    }
   ],
   "source": [
    "# check the size for the dataset\n",
    "dataset.shape"
   ]
  },
  {
   "cell_type": "code",
   "execution_count": 51,
   "id": "5dfc89b9",
   "metadata": {},
   "outputs": [
    {
     "data": {
      "text/plain": [
       "gender                      0\n",
       "NationalITy                 0\n",
       "PlaceofBirth                0\n",
       "StageID                     0\n",
       "GradeID                     0\n",
       "SectionID                   0\n",
       "Topic                       0\n",
       "Semester                    0\n",
       "Relation                    0\n",
       "raisedhands                 0\n",
       "VisITedResources            0\n",
       "AnnouncementsView           0\n",
       "Discussion                  0\n",
       "ParentAnsweringSurvey       0\n",
       "ParentschoolSatisfaction    0\n",
       "StudentAbsenceDays          0\n",
       "Class                       0\n",
       "dtype: int64"
      ]
     },
     "execution_count": 51,
     "metadata": {},
     "output_type": "execute_result"
    }
   ],
   "source": [
    "#check if null values is in dataset or not.....\n",
    "dataset.isnull().sum()"
   ]
  },
  {
   "cell_type": "code",
   "execution_count": 52,
   "id": "abe2852b",
   "metadata": {},
   "outputs": [
    {
     "name": "stdout",
     "output_type": "stream",
     "text": [
      "list is: \n",
      "['gender', 'NationalITy', 'PlaceofBirth', 'StageID', 'GradeID', 'SectionID', 'Topic', 'Semester', 'Relation', 'raisedhands', 'VisITedResources', 'AnnouncementsView', 'Discussion', 'ParentAnsweringSurvey', 'ParentschoolSatisfaction', 'StudentAbsenceDays', 'Class'] \n",
      "so there is : 16 features in the dataset\n"
     ]
    }
   ],
   "source": [
    "# see the column in the dataset\n",
    "column = list(dataset.columns)\n",
    "print(f'list is: \\n{column} \\nso there is : {len(column)-1} features in the dataset') # -1 because of the last column is the target"
   ]
  },
  {
   "cell_type": "code",
   "execution_count": 53,
   "id": "60245362",
   "metadata": {
    "scrolled": true
   },
   "outputs": [
    {
     "name": "stdout",
     "output_type": "stream",
     "text": [
      "gender >> ['M' 'F']\n",
      "-----------------------------\n",
      "NationalITy >> ['KW' 'lebanon' 'Egypt' 'SaudiArabia' 'USA' 'Jordan' 'venzuela' 'Iran'\n",
      " 'Tunis' 'Morocco' 'Syria' 'Palestine' 'Iraq' 'Lybia']\n",
      "-----------------------------\n",
      "PlaceofBirth >> ['KuwaIT' 'lebanon' 'Egypt' 'SaudiArabia' 'USA' 'Jordan' 'venzuela' 'Iran'\n",
      " 'Tunis' 'Morocco' 'Syria' 'Iraq' 'Palestine' 'Lybia']\n",
      "-----------------------------\n",
      "StageID >> ['lowerlevel' 'MiddleSchool' 'HighSchool']\n",
      "-----------------------------\n",
      "GradeID >> ['G-04' 'G-07' 'G-08' 'G-06' 'G-05' 'G-09' 'G-12' 'G-11' 'G-10' 'G-02']\n",
      "-----------------------------\n",
      "SectionID >> ['A' 'B' 'C']\n",
      "-----------------------------\n",
      "Topic >> ['IT' 'Math' 'Arabic' 'Science' 'English' 'Quran' 'Spanish' 'French'\n",
      " 'History' 'Biology' 'Chemistry' 'Geology']\n",
      "-----------------------------\n",
      "Semester >> ['F' 'S']\n",
      "-----------------------------\n",
      "Relation >> ['Father' 'Mum']\n",
      "-----------------------------\n",
      "raisedhands >> [ 15  20  10  30  40  42  35  50  12  70  19   5  62  36  55  69  60   2\n",
      "   0   8  25  75   4  45  14  33   7  13  29  39  49  16  28  27  21  80\n",
      "  17  65  22  11   1   3 100   6  90  77  24  66  23  82  72  51  85  87\n",
      "  95  81  53  92  83  67  96  57  73   9  32  52  59  61  79  18  74  97\n",
      "  41  71  98  78  89  88  86  76  99  84]\n",
      "-----------------------------\n",
      "VisITedResources >> [16 20  7 25 50 30 12 10 21 80 88  6  1 14 70 40 13 15 60  0  2 19 85 90\n",
      "  5 22 11 54 35 33  4 39 75 69  3  8 89 44 92 26 27 29 98  9 42 65 79 55\n",
      " 63 91 51 58 68 82 72 52 62 71 66 43 95 31 41 81 61 83 84 17 94 48 86 74\n",
      " 76 97 87 99 34 64 28 38 36 24 59 57 77 18 93 96 78]\n",
      "-----------------------------\n",
      "AnnouncementsView >> [ 2  3  0  5 12 13 15 16 25 30 19 44 22 20 35 36 40 33  4 52 50 10  9  8\n",
      " 17 26 37  7 28  1 39  6 32 70 18 23 11 29 49 55 38 41 51 95 85 71 98 73\n",
      " 48 58 93 83 53 63 62 82 72 42 46 77 21 88 66 86 80 56 91 65 76 24 74 59\n",
      " 79 34 69 89 31 60 54 57 64 87 75 67 43 45 14 78]\n",
      "-----------------------------\n",
      "Discussion >> [20 25 30 35 50 70 17 22 80 12 11 19 60 66 90 96 99 40 33 43 16  4 88 77\n",
      " 75  1  5  2  8 13 44  9 55 10 15  7  3 14 69 59 89 41 91 49 73 23 53 93\n",
      " 51 83 24 84 61 94 34 81 29 46 26  6 76 86 85 65 95 64 32 37 36 27 39 74\n",
      " 79 21 31 28 38 48 97 98 63 72 82 71 45 68 92 58 57 62]\n",
      "-----------------------------\n",
      "ParentAnsweringSurvey >> ['Yes' 'No']\n",
      "-----------------------------\n",
      "ParentschoolSatisfaction >> ['Good' 'Bad']\n",
      "-----------------------------\n",
      "StudentAbsenceDays >> ['Under-7' 'Above-7']\n",
      "-----------------------------\n",
      "Class >> ['M' 'L' 'H']\n",
      "-----------------------------\n"
     ]
    }
   ],
   "source": [
    "# to see the value of each column\n",
    "def see_feature_values():\n",
    "    for i in column:\n",
    "        print(f'{i} >> {dataset[str(i)].unique()}')\n",
    "        print('-----------------------------')\n",
    "see_feature_values()"
   ]
  },
  {
   "cell_type": "code",
   "execution_count": 54,
   "id": "85c5e4fd",
   "metadata": {},
   "outputs": [
    {
     "data": {
      "image/png": "[encoded data removed]",
      "text/plain": [
       "<Figure size 432x288 with 1 Axes>"
      ]
     },
     "metadata": {
      "needs_background": "light"
     },
     "output_type": "display_data"
    }
   ],
   "source": [
    "# visulize the dataset and see the value of the class\n",
    "sns.countplot(x='Class',data=dataset, palette='hls')\n",
    "plt.show()\n",
    "#plt.savefig('count_plot')"
   ]
  },
  {
   "cell_type": "code",
   "execution_count": 55,
   "id": "3ba6d8f0",
   "metadata": {},
   "outputs": [],
   "source": [
    "# features train\n",
    "features = ['gender','StageID','GradeID','Topic','raisedhands','VisITedResources', 'AnnouncementsView',\n",
    "            'Discussion','StudentAbsenceDays']"
   ]
  },
  {
   "cell_type": "markdown",
   "id": "fd86864d",
   "metadata": {},
   "source": [
    "## Convert column Topic and studentAbsenceDays only into numeric value  "
   ]
  },
  {
   "cell_type": "code",
   "execution_count": 56,
   "id": "742161dc",
   "metadata": {},
   "outputs": [],
   "source": [
    "from sklearn import preprocessing\n",
    "\n",
    "label_encoder = preprocessing.LabelEncoder()\n",
    "\n",
    "dataset['gender'] = label_encoder.fit_transform(dataset['gender'])\n",
    "dataset['StageID'] = label_encoder.fit_transform(dataset['StageID'])\n",
    "dataset['GradeID'] = label_encoder.fit_transform(dataset['GradeID'])\n",
    "dataset['Topic'] = label_encoder.fit_transform(dataset['Topic'])\n",
    "dataset['StudentAbsenceDays'] = label_encoder.fit_transform(dataset['StudentAbsenceDays'])"
   ]
  },
  {
   "cell_type": "code",
   "execution_count": 57,
   "id": "51d19b6c",
   "metadata": {},
   "outputs": [
    {
     "data": {
      "text/html": [
       "<div>\n",
       "<style scoped>\n",
       "    .dataframe tbody tr th:only-of-type {\n",
       "        vertical-align: middle;\n",
       "    }\n",
       "\n",
       "    .dataframe tbody tr th {\n",
       "        vertical-align: top;\n",
       "    }\n",
       "\n",
       "    .dataframe thead th {\n",
       "        text-align: right;\n",
       "    }\n",
       "</style>\n",
       "<table border=\"1\" class=\"dataframe\">\n",
       "  <thead>\n",
       "    <tr style=\"text-align: right;\">\n",
       "      <th></th>\n",
       "      <th>gender</th>\n",
       "      <th>NationalITy</th>\n",
       "      <th>PlaceofBirth</th>\n",
       "      <th>StageID</th>\n",
       "      <th>GradeID</th>\n",
       "      <th>SectionID</th>\n",
       "      <th>Topic</th>\n",
       "      <th>Semester</th>\n",
       "      <th>Relation</th>\n",
       "      <th>raisedhands</th>\n",
       "      <th>VisITedResources</th>\n",
       "      <th>AnnouncementsView</th>\n",
       "      <th>Discussion</th>\n",
       "      <th>ParentAnsweringSurvey</th>\n",
       "      <th>ParentschoolSatisfaction</th>\n",
       "      <th>StudentAbsenceDays</th>\n",
       "      <th>Class</th>\n",
       "    </tr>\n",
       "  </thead>\n",
       "  <tbody>\n",
       "    <tr>\n",
       "      <th>0</th>\n",
       "      <td>1</td>\n",
       "      <td>KW</td>\n",
       "      <td>KuwaIT</td>\n",
       "      <td>2</td>\n",
       "      <td>1</td>\n",
       "      <td>A</td>\n",
       "      <td>7</td>\n",
       "      <td>F</td>\n",
       "      <td>Father</td>\n",
       "      <td>15</td>\n",
       "      <td>16</td>\n",
       "      <td>2</td>\n",
       "      <td>20</td>\n",
       "      <td>Yes</td>\n",
       "      <td>Good</td>\n",
       "      <td>1</td>\n",
       "      <td>M</td>\n",
       "    </tr>\n",
       "    <tr>\n",
       "      <th>1</th>\n",
       "      <td>1</td>\n",
       "      <td>KW</td>\n",
       "      <td>KuwaIT</td>\n",
       "      <td>2</td>\n",
       "      <td>1</td>\n",
       "      <td>A</td>\n",
       "      <td>7</td>\n",
       "      <td>F</td>\n",
       "      <td>Father</td>\n",
       "      <td>20</td>\n",
       "      <td>20</td>\n",
       "      <td>3</td>\n",
       "      <td>25</td>\n",
       "      <td>Yes</td>\n",
       "      <td>Good</td>\n",
       "      <td>1</td>\n",
       "      <td>M</td>\n",
       "    </tr>\n",
       "    <tr>\n",
       "      <th>2</th>\n",
       "      <td>1</td>\n",
       "      <td>KW</td>\n",
       "      <td>KuwaIT</td>\n",
       "      <td>2</td>\n",
       "      <td>1</td>\n",
       "      <td>A</td>\n",
       "      <td>7</td>\n",
       "      <td>F</td>\n",
       "      <td>Father</td>\n",
       "      <td>10</td>\n",
       "      <td>7</td>\n",
       "      <td>0</td>\n",
       "      <td>30</td>\n",
       "      <td>No</td>\n",
       "      <td>Bad</td>\n",
       "      <td>0</td>\n",
       "      <td>L</td>\n",
       "    </tr>\n",
       "    <tr>\n",
       "      <th>3</th>\n",
       "      <td>1</td>\n",
       "      <td>KW</td>\n",
       "      <td>KuwaIT</td>\n",
       "      <td>2</td>\n",
       "      <td>1</td>\n",
       "      <td>A</td>\n",
       "      <td>7</td>\n",
       "      <td>F</td>\n",
       "      <td>Father</td>\n",
       "      <td>30</td>\n",
       "      <td>25</td>\n",
       "      <td>5</td>\n",
       "      <td>35</td>\n",
       "      <td>No</td>\n",
       "      <td>Bad</td>\n",
       "      <td>0</td>\n",
       "      <td>L</td>\n",
       "    </tr>\n",
       "    <tr>\n",
       "      <th>4</th>\n",
       "      <td>1</td>\n",
       "      <td>KW</td>\n",
       "      <td>KuwaIT</td>\n",
       "      <td>2</td>\n",
       "      <td>1</td>\n",
       "      <td>A</td>\n",
       "      <td>7</td>\n",
       "      <td>F</td>\n",
       "      <td>Father</td>\n",
       "      <td>40</td>\n",
       "      <td>50</td>\n",
       "      <td>12</td>\n",
       "      <td>50</td>\n",
       "      <td>No</td>\n",
       "      <td>Bad</td>\n",
       "      <td>0</td>\n",
       "      <td>M</td>\n",
       "    </tr>\n",
       "  </tbody>\n",
       "</table>\n",
       "</div>"
      ],
      "text/plain": [
       "   gender NationalITy PlaceofBirth  StageID  GradeID SectionID  Topic  \\\n",
       "0       1          KW       KuwaIT        2        1         A      7   \n",
       "1       1          KW       KuwaIT        2        1         A      7   \n",
       "2       1          KW       KuwaIT        2        1         A      7   \n",
       "3       1          KW       KuwaIT        2        1         A      7   \n",
       "4       1          KW       KuwaIT        2        1         A      7   \n",
       "\n",
       "  Semester Relation  raisedhands  VisITedResources  AnnouncementsView  \\\n",
       "0        F   Father           15                16                  2   \n",
       "1        F   Father           20                20                  3   \n",
       "2        F   Father           10                 7                  0   \n",
       "3        F   Father           30                25                  5   \n",
       "4        F   Father           40                50                 12   \n",
       "\n",
       "   Discussion ParentAnsweringSurvey ParentschoolSatisfaction  \\\n",
       "0          20                   Yes                     Good   \n",
       "1          25                   Yes                     Good   \n",
       "2          30                    No                      Bad   \n",
       "3          35                    No                      Bad   \n",
       "4          50                    No                      Bad   \n",
       "\n",
       "   StudentAbsenceDays Class  \n",
       "0                   1     M  \n",
       "1                   1     M  \n",
       "2                   0     L  \n",
       "3                   0     L  \n",
       "4                   0     M  "
      ]
     },
     "execution_count": 57,
     "metadata": {},
     "output_type": "execute_result"
    }
   ],
   "source": [
    "# check the value of features after convert the dataset into readable ML format ( which is numeric)\n",
    "dataset.head()\n",
    "\n",
    "# if want to see all the values of each column after convert string into int, call see_feature_values() below \n",
    "# see_feature_values()"
   ]
  },
  {
   "cell_type": "markdown",
   "id": "dfdbc4b3",
   "metadata": {},
   "source": [
    "## split"
   ]
  },
  {
   "cell_type": "code",
   "execution_count": 58,
   "id": "6eae56bc",
   "metadata": {},
   "outputs": [
    {
     "data": {
      "text/html": [
       "<div>\n",
       "<style scoped>\n",
       "    .dataframe tbody tr th:only-of-type {\n",
       "        vertical-align: middle;\n",
       "    }\n",
       "\n",
       "    .dataframe tbody tr th {\n",
       "        vertical-align: top;\n",
       "    }\n",
       "\n",
       "    .dataframe thead th {\n",
       "        text-align: right;\n",
       "    }\n",
       "</style>\n",
       "<table border=\"1\" class=\"dataframe\">\n",
       "  <thead>\n",
       "    <tr style=\"text-align: right;\">\n",
       "      <th></th>\n",
       "      <th>gender</th>\n",
       "      <th>StageID</th>\n",
       "      <th>GradeID</th>\n",
       "      <th>Topic</th>\n",
       "      <th>raisedhands</th>\n",
       "      <th>VisITedResources</th>\n",
       "      <th>AnnouncementsView</th>\n",
       "      <th>Discussion</th>\n",
       "      <th>StudentAbsenceDays</th>\n",
       "    </tr>\n",
       "  </thead>\n",
       "  <tbody>\n",
       "    <tr>\n",
       "      <th>0</th>\n",
       "      <td>1</td>\n",
       "      <td>2</td>\n",
       "      <td>1</td>\n",
       "      <td>7</td>\n",
       "      <td>15</td>\n",
       "      <td>16</td>\n",
       "      <td>2</td>\n",
       "      <td>20</td>\n",
       "      <td>1</td>\n",
       "    </tr>\n",
       "    <tr>\n",
       "      <th>1</th>\n",
       "      <td>1</td>\n",
       "      <td>2</td>\n",
       "      <td>1</td>\n",
       "      <td>7</td>\n",
       "      <td>20</td>\n",
       "      <td>20</td>\n",
       "      <td>3</td>\n",
       "      <td>25</td>\n",
       "      <td>1</td>\n",
       "    </tr>\n",
       "    <tr>\n",
       "      <th>2</th>\n",
       "      <td>1</td>\n",
       "      <td>2</td>\n",
       "      <td>1</td>\n",
       "      <td>7</td>\n",
       "      <td>10</td>\n",
       "      <td>7</td>\n",
       "      <td>0</td>\n",
       "      <td>30</td>\n",
       "      <td>0</td>\n",
       "    </tr>\n",
       "    <tr>\n",
       "      <th>3</th>\n",
       "      <td>1</td>\n",
       "      <td>2</td>\n",
       "      <td>1</td>\n",
       "      <td>7</td>\n",
       "      <td>30</td>\n",
       "      <td>25</td>\n",
       "      <td>5</td>\n",
       "      <td>35</td>\n",
       "      <td>0</td>\n",
       "    </tr>\n",
       "    <tr>\n",
       "      <th>4</th>\n",
       "      <td>1</td>\n",
       "      <td>2</td>\n",
       "      <td>1</td>\n",
       "      <td>7</td>\n",
       "      <td>40</td>\n",
       "      <td>50</td>\n",
       "      <td>12</td>\n",
       "      <td>50</td>\n",
       "      <td>0</td>\n",
       "    </tr>\n",
       "    <tr>\n",
       "      <th>...</th>\n",
       "      <td>...</td>\n",
       "      <td>...</td>\n",
       "      <td>...</td>\n",
       "      <td>...</td>\n",
       "      <td>...</td>\n",
       "      <td>...</td>\n",
       "      <td>...</td>\n",
       "      <td>...</td>\n",
       "      <td>...</td>\n",
       "    </tr>\n",
       "    <tr>\n",
       "      <th>475</th>\n",
       "      <td>0</td>\n",
       "      <td>1</td>\n",
       "      <td>5</td>\n",
       "      <td>2</td>\n",
       "      <td>5</td>\n",
       "      <td>4</td>\n",
       "      <td>5</td>\n",
       "      <td>8</td>\n",
       "      <td>0</td>\n",
       "    </tr>\n",
       "    <tr>\n",
       "      <th>476</th>\n",
       "      <td>0</td>\n",
       "      <td>1</td>\n",
       "      <td>5</td>\n",
       "      <td>5</td>\n",
       "      <td>50</td>\n",
       "      <td>77</td>\n",
       "      <td>14</td>\n",
       "      <td>28</td>\n",
       "      <td>1</td>\n",
       "    </tr>\n",
       "    <tr>\n",
       "      <th>477</th>\n",
       "      <td>0</td>\n",
       "      <td>1</td>\n",
       "      <td>5</td>\n",
       "      <td>5</td>\n",
       "      <td>55</td>\n",
       "      <td>74</td>\n",
       "      <td>25</td>\n",
       "      <td>29</td>\n",
       "      <td>1</td>\n",
       "    </tr>\n",
       "    <tr>\n",
       "      <th>478</th>\n",
       "      <td>0</td>\n",
       "      <td>1</td>\n",
       "      <td>5</td>\n",
       "      <td>6</td>\n",
       "      <td>30</td>\n",
       "      <td>17</td>\n",
       "      <td>14</td>\n",
       "      <td>57</td>\n",
       "      <td>0</td>\n",
       "    </tr>\n",
       "    <tr>\n",
       "      <th>479</th>\n",
       "      <td>0</td>\n",
       "      <td>1</td>\n",
       "      <td>5</td>\n",
       "      <td>6</td>\n",
       "      <td>35</td>\n",
       "      <td>14</td>\n",
       "      <td>23</td>\n",
       "      <td>62</td>\n",
       "      <td>0</td>\n",
       "    </tr>\n",
       "  </tbody>\n",
       "</table>\n",
       "<p>480 rows × 9 columns</p>\n",
       "</div>"
      ],
      "text/plain": [
       "     gender  StageID  GradeID  Topic  raisedhands  VisITedResources  \\\n",
       "0         1        2        1      7           15                16   \n",
       "1         1        2        1      7           20                20   \n",
       "2         1        2        1      7           10                 7   \n",
       "3         1        2        1      7           30                25   \n",
       "4         1        2        1      7           40                50   \n",
       "..      ...      ...      ...    ...          ...               ...   \n",
       "475       0        1        5      2            5                 4   \n",
       "476       0        1        5      5           50                77   \n",
       "477       0        1        5      5           55                74   \n",
       "478       0        1        5      6           30                17   \n",
       "479       0        1        5      6           35                14   \n",
       "\n",
       "     AnnouncementsView  Discussion  StudentAbsenceDays  \n",
       "0                    2          20                   1  \n",
       "1                    3          25                   1  \n",
       "2                    0          30                   0  \n",
       "3                    5          35                   0  \n",
       "4                   12          50                   0  \n",
       "..                 ...         ...                 ...  \n",
       "475                  5           8                   0  \n",
       "476                 14          28                   1  \n",
       "477                 25          29                   1  \n",
       "478                 14          57                   0  \n",
       "479                 23          62                   0  \n",
       "\n",
       "[480 rows x 9 columns]"
      ]
     },
     "execution_count": 58,
     "metadata": {},
     "output_type": "execute_result"
    }
   ],
   "source": [
    "# split features\n",
    "X = dataset[features] \n",
    "X"
   ]
  },
  {
   "cell_type": "code",
   "execution_count": 59,
   "id": "3316c75a",
   "metadata": {},
   "outputs": [
    {
     "name": "stdout",
     "output_type": "stream",
     "text": [
      "['M' 'M' 'L' 'L' 'M' 'M' 'L' 'M' 'M' 'M' 'H' 'M' 'L' 'L' 'H' 'M' 'M' 'M'\n",
      " 'M' 'H' 'M' 'M' 'M' 'L' 'L' 'L' 'M' 'L' 'M' 'M' 'H' 'L' 'L' 'L' 'L' 'L'\n",
      " 'L' 'M' 'L' 'M' 'L' 'M' 'L' 'M' 'M' 'L' 'L' 'H' 'H' 'M' 'L' 'L' 'M' 'H'\n",
      " 'L' 'L' 'L' 'L' 'M' 'M' 'L' 'M' 'H' 'M' 'L' 'L' 'M' 'H' 'H' 'M' 'L' 'M'\n",
      " 'L' 'M' 'L' 'M' 'M' 'M' 'L' 'H' 'L' 'L' 'L' 'M' 'H' 'L' 'H' 'L' 'L' 'L'\n",
      " 'L' 'H' 'H' 'H' 'L' 'H' 'H' 'M' 'M' 'M' 'M' 'H' 'L' 'L' 'M' 'L' 'M' 'H'\n",
      " 'M' 'M' 'H' 'M' 'L' 'L' 'L' 'L' 'M' 'H' 'M' 'M' 'M' 'L' 'M' 'M' 'L' 'L'\n",
      " 'M' 'L' 'L' 'L' 'L' 'M' 'L' 'L' 'H' 'H' 'H' 'M' 'H' 'M' 'L' 'L' 'M' 'H'\n",
      " 'L' 'M' 'H' 'M' 'M' 'H' 'H' 'M' 'H' 'L' 'M' 'H' 'M' 'M' 'L' 'M' 'H' 'M'\n",
      " 'H' 'M' 'M' 'H' 'M' 'H' 'H' 'M' 'H' 'M' 'L' 'L' 'M' 'L' 'H' 'M' 'H' 'M'\n",
      " 'H' 'L' 'H' 'M' 'L' 'H' 'M' 'M' 'H' 'M' 'L' 'L' 'M' 'M' 'M' 'M' 'H' 'H'\n",
      " 'L' 'M' 'H' 'H' 'M' 'M' 'L' 'H' 'M' 'M' 'M' 'M' 'H' 'M' 'H' 'L' 'L' 'L'\n",
      " 'M' 'M' 'H' 'M' 'M' 'M' 'M' 'H' 'H' 'M' 'L' 'L' 'H' 'L' 'M' 'L' 'M' 'M'\n",
      " 'M' 'L' 'L' 'M' 'M' 'H' 'H' 'M' 'L' 'M' 'H' 'M' 'H' 'M' 'L' 'M' 'H' 'L'\n",
      " 'M' 'L' 'H' 'H' 'H' 'M' 'M' 'L' 'L' 'M' 'M' 'M' 'M' 'H' 'M' 'M' 'M' 'M'\n",
      " 'H' 'M' 'M' 'H' 'H' 'H' 'H' 'H' 'M' 'M' 'H' 'H' 'H' 'H' 'M' 'M' 'H' 'H'\n",
      " 'M' 'M' 'L' 'L' 'H' 'H' 'M' 'M' 'H' 'H' 'M' 'M' 'L' 'L' 'M' 'M' 'M' 'M'\n",
      " 'H' 'H' 'M' 'M' 'M' 'M' 'H' 'H' 'H' 'H' 'H' 'H' 'H' 'H' 'M' 'M' 'L' 'L'\n",
      " 'M' 'M' 'L' 'L' 'M' 'M' 'L' 'L' 'M' 'M' 'L' 'L' 'M' 'M' 'M' 'M' 'M' 'M'\n",
      " 'M' 'M' 'H' 'H' 'H' 'H' 'L' 'L' 'L' 'L' 'M' 'M' 'H' 'H' 'M' 'M' 'H' 'H'\n",
      " 'M' 'M' 'H' 'H' 'H' 'H' 'M' 'M' 'H' 'H' 'M' 'M' 'L' 'L' 'L' 'L' 'M' 'M'\n",
      " 'L' 'L' 'L' 'L' 'H' 'H' 'H' 'H' 'M' 'M' 'L' 'L' 'M' 'M' 'H' 'H' 'H' 'H'\n",
      " 'M' 'M' 'H' 'H' 'M' 'M' 'H' 'H' 'H' 'H' 'L' 'L' 'M' 'M' 'H' 'H' 'M' 'M'\n",
      " 'L' 'L' 'H' 'H' 'H' 'H' 'H' 'H' 'M' 'M' 'H' 'H' 'M' 'M' 'L' 'L' 'H' 'H'\n",
      " 'M' 'M' 'M' 'M' 'M' 'M' 'M' 'M' 'M' 'M' 'M' 'M' 'L' 'L' 'M' 'M' 'H' 'H'\n",
      " 'H' 'H' 'M' 'M' 'M' 'M' 'H' 'H' 'H' 'H' 'M' 'M' 'M' 'M' 'H' 'H' 'H' 'H'\n",
      " 'L' 'L' 'M' 'M' 'M' 'M' 'L' 'L' 'M' 'M' 'L' 'L']\n"
     ]
    }
   ],
   "source": [
    "# split target\n",
    "y = dataset.iloc[:, -1].values \n",
    "print(y)"
   ]
  },
  {
   "cell_type": "code",
   "execution_count": 60,
   "id": "b5ffa7bb",
   "metadata": {},
   "outputs": [],
   "source": [
    "from sklearn.model_selection import train_test_split\n",
    "X_train, X_test, y_train, y_test = train_test_split(X, y, test_size=0.2, random_state=42)"
   ]
  },
  {
   "cell_type": "code",
   "execution_count": 61,
   "id": "a408bce7",
   "metadata": {},
   "outputs": [
    {
     "data": {
      "text/plain": [
       "SVC(gamma='auto', kernel='linear')"
      ]
     },
     "execution_count": 61,
     "metadata": {},
     "output_type": "execute_result"
    }
   ],
   "source": [
    "#Creating Support vector machine ( SVM ) model\n",
    "from sklearn import svm\n",
    "svm = svm.SVC(kernel='linear',gamma = 'auto')\n",
    "svm.fit(X_train, y_train)"
   ]
  },
  {
   "cell_type": "code",
   "execution_count": 62,
   "id": "defc50ed",
   "metadata": {},
   "outputs": [],
   "source": [
    "y_pred = svm.predict(X_test)"
   ]
  },
  {
   "cell_type": "markdown",
   "id": "87cd2af2",
   "metadata": {},
   "source": [
    "## check the accuracy for the model after prediction "
   ]
  },
  {
   "cell_type": "code",
   "execution_count": 63,
   "id": "1d07ee38",
   "metadata": {},
   "outputs": [
    {
     "name": "stdout",
     "output_type": "stream",
     "text": [
      "Test accuracy: 79.16666666666666 %\n"
     ]
    }
   ],
   "source": [
    "print(f\"Test accuracy: {svm.score(X_test, y_test)*100} %\")"
   ]
  },
  {
   "cell_type": "code",
   "execution_count": 66,
   "id": "8eaa8a22",
   "metadata": {},
   "outputs": [
    {
     "data": {
      "text/plain": [
       "array([[16,  0,  6],\n",
       "       [ 0, 25,  1],\n",
       "       [ 7,  6, 35]], dtype=int64)"
      ]
     },
     "execution_count": 66,
     "metadata": {},
     "output_type": "execute_result"
    }
   ],
   "source": [
    "from sklearn import metrics\n",
    "from sklearn.metrics import f1_score\n",
    "score = f1_score(y_test, y_pred,average='weighted')\n",
    "cnf_matrix = metrics.confusion_matrix(y_test, y_pred)\n",
    "cnf_matrix"
   ]
  },
  {
   "cell_type": "markdown",
   "id": "441d6840",
   "metadata": {},
   "source": [
    "### Confusion matrix"
   ]
  },
  {
   "cell_type": "code",
   "execution_count": 67,
   "id": "0508e51d",
   "metadata": {},
   "outputs": [
    {
     "data": {
      "text/plain": [
       "Text(0.5, 257.44, 'Predicted label')"
      ]
     },
     "execution_count": 67,
     "metadata": {},
     "output_type": "execute_result"
    },
    {
     "data": {
      "text/plain": [
       "<Figure size 1152x1152 with 0 Axes>"
      ]
     },
     "metadata": {},
     "output_type": "display_data"
    },
    {
     "data": {
      "image/png": "[encoded data removed]",
      "text/plain": [
       "<Figure size 432x288 with 2 Axes>"
      ]
     },
     "metadata": {
      "needs_background": "light"
     },
     "output_type": "display_data"
    }
   ],
   "source": [
    "plt.figure(figsize=(16,16))\n",
    "class_names=[0,1,2] # name of classes\n",
    "fig, ax = plt.subplots()\n",
    "tick_marks = np.arange(len(class_names))\n",
    "plt.xticks(tick_marks, class_names)\n",
    "plt.yticks(tick_marks, class_names)\n",
    "# create heatmap\n",
    "sns.heatmap(pd.DataFrame(cnf_matrix), annot=True, cmap=\"Purples\" ,fmt='g')\n",
    "ax.xaxis.set_label_position(\"top\")\n",
    "plt.tight_layout()\n",
    "plt.title('Confusion matrix', y=1.1)\n",
    "plt.ylabel('Actual label')\n",
    "plt.xlabel('Predicted label')"
   ]
  },
  {
   "cell_type": "code",
   "execution_count": 68,
   "id": "f987a996",
   "metadata": {},
   "outputs": [
    {
     "name": "stdout",
     "output_type": "stream",
     "text": [
      "F1 score: 78.94249512670565\n"
     ]
    }
   ],
   "source": [
    "print (f'F1 score: {score * 100}')"
   ]
  },
  {
   "cell_type": "code",
   "execution_count": null,
   "id": "199748ce",
   "metadata": {},
   "outputs": [],
   "source": []
  }
 ],
 "metadata": {
  "kernelspec": {
   "display_name": "Python 3 (ipykernel)",
   "language": "python",
   "name": "python3"
  },
  "language_info": {
   "codemirror_mode": {
    "name": "ipython",
    "version": 3
   },
   "file_extension": ".py",
   "mimetype": "text/x-python",
   "name": "python",
   "nbconvert_exporter": "python",
   "pygments_lexer": "ipython3",
   "version": "3.9.12"
  }
 },
 "nbformat": 4,
 "nbformat_minor": 5
}
